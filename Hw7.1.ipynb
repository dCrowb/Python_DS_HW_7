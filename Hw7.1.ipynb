{
 "cells": [
  {
   "cell_type": "code",
   "execution_count": 10,
   "metadata": {},
   "outputs": [],
   "source": [
    "import pandas as pd\n",
    "from surprise import SVD, SVDpp, NMF\n",
    "from surprise import Dataset\n",
    "from surprise import Reader\n",
    "from surprise.model_selection import cross_validate, GridSearchCV\n",
    "import matplotlib.pyplot as plt"
   ]
  },
  {
   "cell_type": "code",
   "execution_count": 11,
   "metadata": {},
   "outputs": [],
   "source": [
    "\n",
    "data = Dataset.load_builtin('ml-100k')"
   ]
  },
  {
   "cell_type": "code",
   "execution_count": 12,
   "metadata": {},
   "outputs": [
    {
     "name": "stdout",
     "output_type": "stream",
     "text": [
      "Evaluating RMSE, MAE of algorithm SVD on 10 split(s).\n",
      "\n",
      "                  Fold 1  Fold 2  Fold 3  Fold 4  Fold 5  Fold 6  Fold 7  Fold 8  Fold 9  Fold 10 Mean    Std     \n",
      "RMSE (testset)    0.9379  0.9385  0.9339  0.9230  0.9213  0.9369  0.9235  0.9382  0.9334  0.9195  0.9306  0.0074  \n",
      "MAE (testset)     0.7366  0.7383  0.7341  0.7242  0.7256  0.7391  0.7244  0.7396  0.7363  0.7250  0.7323  0.0063  \n",
      "Fit time          0.83    0.83    0.86    0.83    0.84    0.84    0.84    0.85    0.84    0.85    0.84    0.01    \n",
      "Test time         0.04    0.04    0.04    0.04    0.10    0.04    0.04    0.04    0.04    0.04    0.04    0.02    \n"
     ]
    }
   ],
   "source": [
    "model_svd = SVD()\n",
    "result = cross_validate(model_svd, data, measures=['RMSE', 'MAE'], cv=10, verbose=True)\n",
    "SVD_result = pd.DataFrame.from_dict(result).mean(axis=0)"
   ]
  },
  {
   "cell_type": "code",
   "execution_count": 13,
   "metadata": {},
   "outputs": [
    {
     "name": "stdout",
     "output_type": "stream",
     "text": [
      "Evaluating RMSE, MAE of algorithm SVDpp on 10 split(s).\n",
      "\n",
      "                  Fold 1  Fold 2  Fold 3  Fold 4  Fold 5  Fold 6  Fold 7  Fold 8  Fold 9  Fold 10 Mean    Std     \n",
      "RMSE (testset)    0.9240  0.9170  0.9072  0.9160  0.9065  0.9218  0.9104  0.9124  0.9230  0.9081  0.9146  0.0064  \n",
      "MAE (testset)     0.7226  0.7185  0.7105  0.7197  0.7141  0.7246  0.7128  0.7185  0.7236  0.7154  0.7180  0.0045  \n",
      "Fit time          16.23   16.41   16.19   16.18   16.09   16.35   16.37   17.03   17.33   15.94   16.41   0.41    \n",
      "Test time         1.37    1.41    1.38    1.37    1.39    1.42    1.39    1.64    1.38    1.35    1.41    0.08    \n"
     ]
    }
   ],
   "source": [
    "model_svdpp = SVDpp()\n",
    "result_svdpp = cross_validate(model_svdpp, data, measures=['RMSE', 'MAE'], cv=10, verbose=True)\n",
    "SVDPP_result = pd.DataFrame.from_dict(result_svdpp).mean(axis=0)"
   ]
  },
  {
   "cell_type": "code",
   "execution_count": 14,
   "metadata": {},
   "outputs": [
    {
     "name": "stdout",
     "output_type": "stream",
     "text": [
      "Evaluating RMSE, MAE of algorithm NMF on 10 split(s).\n",
      "\n",
      "                  Fold 1  Fold 2  Fold 3  Fold 4  Fold 5  Fold 6  Fold 7  Fold 8  Fold 9  Fold 10 Mean    Std     \n",
      "RMSE (testset)    0.9603  0.9613  0.9635  0.9683  0.9564  0.9394  0.9641  0.9599  0.9384  0.9470  0.9558  0.0100  \n",
      "MAE (testset)     0.7529  0.7575  0.7566  0.7597  0.7554  0.7396  0.7588  0.7562  0.7384  0.7407  0.7516  0.0081  \n",
      "Fit time          1.29    1.32    1.32    1.27    1.32    1.33    1.33    1.35    1.33    1.37    1.32    0.03    \n",
      "Test time         0.03    0.03    0.09    0.03    0.03    0.03    0.09    0.03    0.03    0.03    0.04    0.02    \n"
     ]
    }
   ],
   "source": [
    "model_nmf = NMF()\n",
    "result_nmf = cross_validate(model_nmf, data, measures=['RMSE', 'MAE'], cv=10, verbose=True)\n",
    "NMF_result = pd.DataFrame.from_dict(result_nmf).mean(axis=0)"
   ]
  },
  {
   "cell_type": "code",
   "execution_count": 15,
   "metadata": {},
   "outputs": [
    {
     "data": {
      "text/html": [
       "<div>\n",
       "<style scoped>\n",
       "    .dataframe tbody tr th:only-of-type {\n",
       "        vertical-align: middle;\n",
       "    }\n",
       "\n",
       "    .dataframe tbody tr th {\n",
       "        vertical-align: top;\n",
       "    }\n",
       "\n",
       "    .dataframe thead th {\n",
       "        text-align: right;\n",
       "    }\n",
       "</style>\n",
       "<table border=\"1\" class=\"dataframe\">\n",
       "  <thead>\n",
       "    <tr style=\"text-align: right;\">\n",
       "      <th></th>\n",
       "      <th>SVD</th>\n",
       "      <th>SVDpp</th>\n",
       "      <th>NMF</th>\n",
       "    </tr>\n",
       "  </thead>\n",
       "  <tbody>\n",
       "    <tr>\n",
       "      <th>test_rmse</th>\n",
       "      <td>0.930620</td>\n",
       "      <td>0.914629</td>\n",
       "      <td>0.955842</td>\n",
       "    </tr>\n",
       "    <tr>\n",
       "      <th>test_mae</th>\n",
       "      <td>0.732317</td>\n",
       "      <td>0.718040</td>\n",
       "      <td>0.751576</td>\n",
       "    </tr>\n",
       "    <tr>\n",
       "      <th>fit_time</th>\n",
       "      <td>0.842101</td>\n",
       "      <td>16.412741</td>\n",
       "      <td>1.322689</td>\n",
       "    </tr>\n",
       "    <tr>\n",
       "      <th>test_time</th>\n",
       "      <td>0.042590</td>\n",
       "      <td>1.408601</td>\n",
       "      <td>0.042194</td>\n",
       "    </tr>\n",
       "  </tbody>\n",
       "</table>\n",
       "</div>"
      ],
      "text/plain": [
       "                SVD      SVDpp       NMF\n",
       "test_rmse  0.930620   0.914629  0.955842\n",
       "test_mae   0.732317   0.718040  0.751576\n",
       "fit_time   0.842101  16.412741  1.322689\n",
       "test_time  0.042590   1.408601  0.042194"
      ]
     },
     "execution_count": 15,
     "metadata": {},
     "output_type": "execute_result"
    }
   ],
   "source": [
    "Final_result = pd.DataFrame(columns=['SVD', 'SVDpp', 'NMF'])\n",
    "Final_result['SVD'] = SVD_result\n",
    "Final_result['SVDpp'] = SVDPP_result\n",
    "Final_result['NMF'] = NMF_result\n",
    "Final_result"
   ]
  },
  {
   "cell_type": "code",
   "execution_count": 16,
   "metadata": {},
   "outputs": [
    {
     "data": {
      "image/png": "[encoded data removed]",
      "text/plain": [
       "<Figure size 600x400 with 1 Axes>"
      ]
     },
     "metadata": {},
     "output_type": "display_data"
    },
    {
     "data": {
      "image/png": "[encoded data removed]",
      "text/plain": [
       "<Figure size 600x400 with 1 Axes>"
      ]
     },
     "metadata": {},
     "output_type": "display_data"
    }
   ],
   "source": [
    "plt.figure(figsize=(6, 4))\n",
    "plt.bar(Final_result.columns, Final_result.loc['test_rmse'], color=['blue', 'green', 'red'])\n",
    "plt.title('Porównanie RMSE')\n",
    "plt.ylabel('RMSE')\n",
    "plt.show()\n",
    "\n",
    "plt.figure(figsize=(6, 4))\n",
    "plt.bar(Final_result.columns, Final_result.loc['test_rmse'], color=['blue', 'green', 'red'])\n",
    "plt.title('Porównanie RMSE')\n",
    "plt.ylabel('RMSE')\n",
    "plt.show()"
   ]
  }
 ],
 "metadata": {
  "kernelspec": {
   "display_name": "Python 3",
   "language": "python",
   "name": "python3"
  },
  "language_info": {
   "codemirror_mode": {
    "name": "ipython",
    "version": 3
   },
   "file_extension": ".py",
   "mimetype": "text/x-python",
   "name": "python",
   "nbconvert_exporter": "python",
   "pygments_lexer": "ipython3",
   "version": "3.11.3"
  }
 },
 "nbformat": 4,
 "nbformat_minor": 2
}
